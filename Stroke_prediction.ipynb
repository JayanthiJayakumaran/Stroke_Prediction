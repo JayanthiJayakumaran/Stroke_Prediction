{
 "cells": [
  {
   "cell_type": "code",
   "execution_count": 27,
   "id": "3f33b58f",
   "metadata": {},
   "outputs": [],
   "source": [
    "#Import necessary packages\n",
    "import pandas as pd\n",
    "from sklearn.model_selection import train_test_split\n",
    "from sklearn.preprocessing import StandardScaler\n",
    "from imblearn.over_sampling import SMOTE"
   ]
  },
  {
   "cell_type": "code",
   "execution_count": 3,
   "id": "c365c333",
   "metadata": {},
   "outputs": [
    {
     "data": {
      "text/html": [
       "<div>\n",
       "<style scoped>\n",
       "    .dataframe tbody tr th:only-of-type {\n",
       "        vertical-align: middle;\n",
       "    }\n",
       "\n",
       "    .dataframe tbody tr th {\n",
       "        vertical-align: top;\n",
       "    }\n",
       "\n",
       "    .dataframe thead th {\n",
       "        text-align: right;\n",
       "    }\n",
       "</style>\n",
       "<table border=\"1\" class=\"dataframe\">\n",
       "  <thead>\n",
       "    <tr style=\"text-align: right;\">\n",
       "      <th></th>\n",
       "      <th>id</th>\n",
       "      <th>gender</th>\n",
       "      <th>age</th>\n",
       "      <th>hypertension</th>\n",
       "      <th>heart_disease</th>\n",
       "      <th>ever_married</th>\n",
       "      <th>work_type</th>\n",
       "      <th>Residence_type</th>\n",
       "      <th>avg_glucose_level</th>\n",
       "      <th>bmi</th>\n",
       "      <th>smoking_status</th>\n",
       "      <th>stroke</th>\n",
       "    </tr>\n",
       "  </thead>\n",
       "  <tbody>\n",
       "    <tr>\n",
       "      <th>0</th>\n",
       "      <td>9046</td>\n",
       "      <td>Male</td>\n",
       "      <td>67.0</td>\n",
       "      <td>0</td>\n",
       "      <td>1</td>\n",
       "      <td>Yes</td>\n",
       "      <td>Private</td>\n",
       "      <td>Urban</td>\n",
       "      <td>228.69</td>\n",
       "      <td>36.6</td>\n",
       "      <td>formerly smoked</td>\n",
       "      <td>1</td>\n",
       "    </tr>\n",
       "    <tr>\n",
       "      <th>1</th>\n",
       "      <td>51676</td>\n",
       "      <td>Female</td>\n",
       "      <td>61.0</td>\n",
       "      <td>0</td>\n",
       "      <td>0</td>\n",
       "      <td>Yes</td>\n",
       "      <td>Self-employed</td>\n",
       "      <td>Rural</td>\n",
       "      <td>202.21</td>\n",
       "      <td>NaN</td>\n",
       "      <td>never smoked</td>\n",
       "      <td>1</td>\n",
       "    </tr>\n",
       "    <tr>\n",
       "      <th>2</th>\n",
       "      <td>31112</td>\n",
       "      <td>Male</td>\n",
       "      <td>80.0</td>\n",
       "      <td>0</td>\n",
       "      <td>1</td>\n",
       "      <td>Yes</td>\n",
       "      <td>Private</td>\n",
       "      <td>Rural</td>\n",
       "      <td>105.92</td>\n",
       "      <td>32.5</td>\n",
       "      <td>never smoked</td>\n",
       "      <td>1</td>\n",
       "    </tr>\n",
       "    <tr>\n",
       "      <th>3</th>\n",
       "      <td>60182</td>\n",
       "      <td>Female</td>\n",
       "      <td>49.0</td>\n",
       "      <td>0</td>\n",
       "      <td>0</td>\n",
       "      <td>Yes</td>\n",
       "      <td>Private</td>\n",
       "      <td>Urban</td>\n",
       "      <td>171.23</td>\n",
       "      <td>34.4</td>\n",
       "      <td>smokes</td>\n",
       "      <td>1</td>\n",
       "    </tr>\n",
       "    <tr>\n",
       "      <th>4</th>\n",
       "      <td>1665</td>\n",
       "      <td>Female</td>\n",
       "      <td>79.0</td>\n",
       "      <td>1</td>\n",
       "      <td>0</td>\n",
       "      <td>Yes</td>\n",
       "      <td>Self-employed</td>\n",
       "      <td>Rural</td>\n",
       "      <td>174.12</td>\n",
       "      <td>24.0</td>\n",
       "      <td>never smoked</td>\n",
       "      <td>1</td>\n",
       "    </tr>\n",
       "  </tbody>\n",
       "</table>\n",
       "</div>"
      ],
      "text/plain": [
       "      id  gender   age  hypertension  heart_disease ever_married  \\\n",
       "0   9046    Male  67.0             0              1          Yes   \n",
       "1  51676  Female  61.0             0              0          Yes   \n",
       "2  31112    Male  80.0             0              1          Yes   \n",
       "3  60182  Female  49.0             0              0          Yes   \n",
       "4   1665  Female  79.0             1              0          Yes   \n",
       "\n",
       "       work_type Residence_type  avg_glucose_level   bmi   smoking_status  \\\n",
       "0        Private          Urban             228.69  36.6  formerly smoked   \n",
       "1  Self-employed          Rural             202.21   NaN     never smoked   \n",
       "2        Private          Rural             105.92  32.5     never smoked   \n",
       "3        Private          Urban             171.23  34.4           smokes   \n",
       "4  Self-employed          Rural             174.12  24.0     never smoked   \n",
       "\n",
       "   stroke  \n",
       "0       1  \n",
       "1       1  \n",
       "2       1  \n",
       "3       1  \n",
       "4       1  "
      ]
     },
     "execution_count": 3,
     "metadata": {},
     "output_type": "execute_result"
    }
   ],
   "source": [
    "#reading the input and displaying the first five values\n",
    "s_df = pd.read_csv(\"C:/Users/jayan/Downloads/healthcare-dataset-stroke-data.csv\")\n",
    "s_df.head()"
   ]
  },
  {
   "cell_type": "code",
   "execution_count": 4,
   "id": "a0ca13cc",
   "metadata": {},
   "outputs": [
    {
     "data": {
      "text/plain": [
       "Index(['id', 'gender', 'age', 'hypertension', 'heart_disease', 'ever_married',\n",
       "       'work_type', 'Residence_type', 'avg_glucose_level', 'bmi',\n",
       "       'smoking_status', 'stroke'],\n",
       "      dtype='object')"
      ]
     },
     "execution_count": 4,
     "metadata": {},
     "output_type": "execute_result"
    }
   ],
   "source": [
    "#Displaying the column names\n",
    "s_df.columns"
   ]
  },
  {
   "cell_type": "code",
   "execution_count": 15,
   "id": "25db5014",
   "metadata": {},
   "outputs": [
    {
     "name": "stdout",
     "output_type": "stream",
     "text": [
      "Columns with missing values:\n",
      "Index(['bmi'], dtype='object')\n"
     ]
    }
   ],
   "source": [
    "# Identify columns with missing values\n",
    "missing_columns = s_df.columns[s_df.isnull().any()]\n",
    "\n",
    "# Print the column names with missing values\n",
    "print(\"Columns with missing values:\")\n",
    "print(missing_columns)\n"
   ]
  },
  {
   "cell_type": "code",
   "execution_count": 16,
   "id": "3de13e4d",
   "metadata": {},
   "outputs": [
    {
     "name": "stdout",
     "output_type": "stream",
     "text": [
      "Columns with missing values and their counts:\n",
      "bmi    201\n",
      "dtype: int64\n"
     ]
    }
   ],
   "source": [
    "# Count the number of missing values in each column\n",
    "missing_count = s_df.isnull().sum()\n",
    "\n",
    "# Filter to only show columns with missing values\n",
    "missing_count = missing_count[missing_count > 0]\n",
    "\n",
    "# Print the column names and their missing value counts\n",
    "print(\"Columns with missing values and their counts:\")\n",
    "print(missing_count)\n"
   ]
  },
  {
   "cell_type": "code",
   "execution_count": 19,
   "id": "cd2b2180",
   "metadata": {},
   "outputs": [
    {
     "name": "stdout",
     "output_type": "stream",
     "text": [
      "      id  gender   age  hypertension  heart_disease ever_married  \\\n",
      "0   9046    Male  67.0             0              1          Yes   \n",
      "1  51676  Female  61.0             0              0          Yes   \n",
      "2  31112    Male  80.0             0              1          Yes   \n",
      "3  60182  Female  49.0             0              0          Yes   \n",
      "4   1665  Female  79.0             1              0          Yes   \n",
      "\n",
      "       work_type Residence_type  avg_glucose_level   bmi   smoking_status  \\\n",
      "0        Private          Urban             228.69  36.6  formerly smoked   \n",
      "1  Self-employed          Rural             202.21  28.1     never smoked   \n",
      "2        Private          Rural             105.92  32.5     never smoked   \n",
      "3        Private          Urban             171.23  34.4           smokes   \n",
      "4  Self-employed          Rural             174.12  24.0     never smoked   \n",
      "\n",
      "   stroke  \n",
      "0       1  \n",
      "1       1  \n",
      "2       1  \n",
      "3       1  \n",
      "4       1  \n"
     ]
    }
   ],
   "source": [
    "# Impute with median\n",
    "s_df['bmi'].fillna(s_df['bmi'].median(), inplace=True)\n",
    "\n",
    "# View the first few rows of the DataFrame to confirm the changes\n",
    "print(s_df.head())\n",
    "\n",
    "  \n"
   ]
  },
  {
   "cell_type": "code",
   "execution_count": 20,
   "id": "017b333d",
   "metadata": {},
   "outputs": [
    {
     "name": "stdout",
     "output_type": "stream",
     "text": [
      "0\n"
     ]
    }
   ],
   "source": [
    "# check if there are any remaining missing values in the BMI column\n",
    "print(s_df['bmi'].isnull().sum())"
   ]
  },
  {
   "cell_type": "code",
   "execution_count": 25,
   "id": "d312be27",
   "metadata": {},
   "outputs": [
    {
     "name": "stdout",
     "output_type": "stream",
     "text": [
      "Class Distribution:\n",
      "0    4861\n",
      "1     249\n",
      "Name: stroke, dtype: int64\n"
     ]
    },
    {
     "data": {
      "image/png": "[encoded data removed]",
      "text/plain": [
       "<Figure size 432x288 with 1 Axes>"
      ]
     },
     "metadata": {
      "needs_background": "light"
     },
     "output_type": "display_data"
    }
   ],
   "source": [
    "# Assuming 'stroke' is the target variable column in your DataFrame\n",
    "class_distribution = s_df['stroke'].value_counts()\n",
    "\n",
    "# Print the class distribution\n",
    "print(\"Class Distribution:\")\n",
    "print(class_distribution)\n",
    "\n",
    "# If you want to visualize the distribution as well, you can use a bar plot\n",
    "import matplotlib.pyplot as plt\n",
    "\n",
    "class_distribution.plot(kind='bar', color=['skyblue', 'red'])\n",
    "plt.title('Class Distribution of Stroke')\n",
    "plt.xlabel('Stroke (0 = No, 1 = Yes)')\n",
    "plt.ylabel('Number of Cases')\n",
    "\n",
    "# Annotate the count on top of each bar\n",
    "for index, value in enumerate(class_distribution):\n",
    "    plt.text(index, value + 10, str(value), ha='center', fontsize=12)\n",
    "    \n",
    "plt.show()\n"
   ]
  },
  {
   "cell_type": "code",
   "execution_count": 26,
   "id": "e4a59175",
   "metadata": {},
   "outputs": [
    {
     "name": "stdout",
     "output_type": "stream",
     "text": [
      "      id   age  hypertension  heart_disease ever_married Residence_type  \\\n",
      "0   9046  67.0             0              1          Yes          Urban   \n",
      "1  51676  61.0             0              0          Yes          Rural   \n",
      "2  31112  80.0             0              1          Yes          Rural   \n",
      "3  60182  49.0             0              0          Yes          Urban   \n",
      "4   1665  79.0             1              0          Yes          Rural   \n",
      "\n",
      "   avg_glucose_level   bmi  stroke  gender_Male  gender_Other  \\\n",
      "0             228.69  36.6       1          1.0           0.0   \n",
      "1             202.21  28.1       1          0.0           0.0   \n",
      "2             105.92  32.5       1          1.0           0.0   \n",
      "3             171.23  34.4       1          0.0           0.0   \n",
      "4             174.12  24.0       1          0.0           0.0   \n",
      "\n",
      "   work_type_Never_worked  work_type_Private  work_type_Self-employed  \\\n",
      "0                     0.0                1.0                      0.0   \n",
      "1                     0.0                0.0                      1.0   \n",
      "2                     0.0                1.0                      0.0   \n",
      "3                     0.0                1.0                      0.0   \n",
      "4                     0.0                0.0                      1.0   \n",
      "\n",
      "   work_type_children  smoking_status_formerly smoked  \\\n",
      "0                 0.0                             1.0   \n",
      "1                 0.0                             0.0   \n",
      "2                 0.0                             0.0   \n",
      "3                 0.0                             0.0   \n",
      "4                 0.0                             0.0   \n",
      "\n",
      "   smoking_status_never smoked  smoking_status_smokes  \n",
      "0                          0.0                    0.0  \n",
      "1                          1.0                    0.0  \n",
      "2                          1.0                    0.0  \n",
      "3                          0.0                    1.0  \n",
      "4                          1.0                    0.0  \n"
     ]
    }
   ],
   "source": [
    "from sklearn.preprocessing import OneHotEncoder\n",
    "import pandas as pd\n",
    "\n",
    "#s_df is your DataFrame\n",
    "columns_to_encode = ['gender', 'work_type', 'smoking_status'] \n",
    "\n",
    "# Initialize the encoder, drop='first' to avoid multicollinearity\n",
    "encoder = OneHotEncoder(drop='first', sparse_output=False)  \n",
    "\n",
    "# Fit and transform the selected columns\n",
    "encoded_columns = encoder.fit_transform(s_df[columns_to_encode])\n",
    "\n",
    "# Convert to DataFrame for easier merging\n",
    "encoded_df = pd.DataFrame(encoded_columns, columns=encoder.get_feature_names_out(columns_to_encode))\n",
    "\n",
    "# Merge the encoded columns back into the original DataFrame\n",
    "s_df = s_df.drop(columns_to_encode, axis=1)  \n",
    "s_df = pd.concat([s_df, encoded_df], axis=1)  \n",
    "\n",
    "print(s_df.head())  # View the updated DataFrame\n"
   ]
  },
  {
   "cell_type": "code",
   "execution_count": 31,
   "id": "a60c4388",
   "metadata": {},
   "outputs": [
    {
     "name": "stdout",
     "output_type": "stream",
     "text": [
      "Class Distribution After SMOTE:\n",
      " 0    3889\n",
      "1    3889\n",
      "Name: stroke, dtype: int64\n",
      "\n",
      "First 5 Rows of Normalized Training Data:\n",
      "          id       age  hypertension  heart_disease  avg_glucose_level  \\\n",
      "0 -0.556082 -0.315632     -0.311012      -0.216419          -0.988570   \n",
      "1  0.285832 -1.862743     -0.311012      -0.216419           0.073872   \n",
      "2  0.440015  0.575129     -0.311012      -0.216419          -0.163094   \n",
      "3  0.890974 -0.503160     -0.311012      -0.216419          -1.064688   \n",
      "4 -0.508535 -1.909625     -0.311012      -0.216419          -0.725564   \n",
      "\n",
      "        bmi  gender_Male  gender_Other  work_type_Never_worked  \\\n",
      "0  0.543216    -0.926990      -0.01134               -0.040917   \n",
      "1 -1.303313     1.281576      -0.01134               -0.040917   \n",
      "2 -0.708151    -0.926990      -0.01134               -0.040917   \n",
      "3 -0.723411     1.281576      -0.01134               -0.040917   \n",
      "4  0.314307     1.281576      -0.01134               -0.040917   \n",
      "\n",
      "   work_type_Private  work_type_Self-employed  work_type_children  \\\n",
      "0           0.944929                -0.580780           -0.282262   \n",
      "1           0.944929                -0.580780           -0.282262   \n",
      "2          -1.266845                 2.105545           -0.282262   \n",
      "3           0.944929                -0.580780           -0.282262   \n",
      "4          -1.266845                -0.580780           -0.282262   \n",
      "\n",
      "   smoking_status_formerly smoked  smoking_status_never smoked  \\\n",
      "0                       -0.597143                     1.449905   \n",
      "1                       -0.597143                     1.449905   \n",
      "2                       -0.597143                     1.449905   \n",
      "3                       -0.597143                    -0.829499   \n",
      "4                       -0.597143                    -0.829499   \n",
      "\n",
      "   smoking_status_smokes  ever_married_Yes  Residence_type_Urban  \n",
      "0              -0.484109          0.578016              1.040483  \n",
      "1              -0.484109         -1.900176             -1.150095  \n",
      "2              -0.484109          0.578016             -1.150095  \n",
      "3               2.493718          0.578016              1.040483  \n",
      "4              -0.484109         -1.900176              1.040483  \n"
     ]
    }
   ],
   "source": [
    "import pandas as pd\n",
    "from sklearn.model_selection import train_test_split\n",
    "from sklearn.preprocessing import StandardScaler\n",
    "from imblearn.over_sampling import SMOTE\n",
    "\n",
    "#s_df is your DataFrame\n",
    "columns_to_encode = ['ever_married', 'Residence_type']\n",
    "\n",
    "# Initialize the encoder, drop='first' to avoid multicollinearity\n",
    "encoder = OneHotEncoder(drop='first', sparse_output=False)  \n",
    "\n",
    "# Fit and transform the selected columns\n",
    "encoded_columns = encoder.fit_transform(s_df[columns_to_encode])\n",
    "\n",
    "# Convert to DataFrame for easier merging\n",
    "encoded_df = pd.DataFrame(encoded_columns, columns=encoder.get_feature_names_out(columns_to_encode))\n",
    "\n",
    "# Merge the encoded columns back into the original DataFrame\n",
    "s_df = s_df.drop(columns_to_encode, axis=1)  \n",
    "s_df = pd.concat([s_df, encoded_df], axis=1)  \n",
    "\n",
    "# Step 1: Split the data into features and target variable\n",
    "X = s_df.drop('stroke', axis=1)  # Features\n",
    "y = s_df['stroke']  # Target\n",
    "\n",
    "# Step 2: Split the data into training and testing sets\n",
    "X_train, X_test, y_train, y_test = train_test_split(X, y, test_size=0.2, random_state=42, stratify=y)\n",
    "\n",
    "# Step 3: Apply SMOTE to the training data\n",
    "smote = SMOTE(random_state=42)\n",
    "X_train_smote, y_train_smote = smote.fit_resample(X_train, y_train)\n",
    "\n",
    "# Step 4: Normalize the data after oversampling\n",
    "scaler = StandardScaler()\n",
    "X_train_scaled = scaler.fit_transform(X_train_smote)\n",
    "X_test_scaled = scaler.transform(X_test)  # Apply the same transformation to the test set\n",
    "\n",
    "# Check the class distribution after SMOTE\n",
    "class_distribution_after_smote = y_train_smote.value_counts()\n",
    "\n",
    "# Return the first few rows of the normalized training data\n",
    "normalized_output = pd.DataFrame(X_train_scaled, columns=X_train.columns).head()\n",
    "\n",
    "print(\"Class Distribution After SMOTE:\\n\", class_distribution_after_smote)\n",
    "print(\"\\nFirst 5 Rows of Normalized Training Data:\\n\", normalized_output)\n"
   ]
  },
  {
   "cell_type": "code",
   "execution_count": 65,
   "id": "947b4c57",
   "metadata": {},
   "outputs": [
    {
     "name": "stdout",
     "output_type": "stream",
     "text": [
      "Class Distribution after SMOTE:\n",
      "0    3889\n",
      "1    3889\n",
      "Name: stroke, dtype: int64\n"
     ]
    },
    {
     "data": {
      "image/png": "[encoded data removed]",
      "text/plain": [
       "<Figure size 432x288 with 1 Axes>"
      ]
     },
     "metadata": {
      "needs_background": "light"
     },
     "output_type": "display_data"
    }
   ],
   "source": [
    "# Assuming 'stroke' is the target variable column in your DataFrame\n",
    "class_distribution = y_train_smote.value_counts()\n",
    "\n",
    "# Print the class distribution\n",
    "print(\"Class Distribution after SMOTE:\")\n",
    "print(class_distribution)\n",
    "\n",
    "# To visualize the distribution as well, you can use a bar plot\n",
    "import matplotlib.pyplot as plt\n",
    "\n",
    "class_distribution.plot(kind='bar', color=['skyblue', 'red'])\n",
    "plt.title('Class Distribution of Stroke')\n",
    "plt.xlabel('Stroke (0 = No, 1 = Yes)')\n",
    "plt.ylabel('Number of Cases')\n",
    "\n",
    "# Annotate the count on top of each bar\n",
    "for index, value in enumerate(class_distribution):\n",
    "    plt.text(index, value + 10, str(value), ha='center', fontsize=12)\n",
    "    \n",
    "plt.show()"
   ]
  },
  {
   "cell_type": "code",
   "execution_count": 32,
   "id": "0ac66e47",
   "metadata": {},
   "outputs": [
    {
     "name": "stdout",
     "output_type": "stream",
     "text": [
      "Accuracy: 0.7681\n",
      "Precision: 0.1418\n",
      "Recall: 0.7400\n",
      "F1-Score: 0.2379\n",
      "ROC-AUC: 0.8147\n",
      "Confusion Matrix:\n",
      "[[748 224]\n",
      " [ 13  37]]\n"
     ]
    }
   ],
   "source": [
    "from sklearn.linear_model import LogisticRegression\n",
    "from sklearn.metrics import accuracy_score, precision_score, recall_score, f1_score, roc_auc_score, confusion_matrix\n",
    "\n",
    "# Step 1: Initialize the Logistic Regression model\n",
    "logistic_model = LogisticRegression(random_state=42)\n",
    "\n",
    "# Step 2: Train the model\n",
    "logistic_model.fit(X_train_scaled, y_train_smote)\n",
    "\n",
    "# Step 3: Make predictions on the test set\n",
    "y_pred = logistic_model.predict(X_test_scaled)\n",
    "y_pred_proba = logistic_model.predict_proba(X_test_scaled)[:, 1]\n",
    "\n",
    "# Step 4: Evaluate the model\n",
    "accuracy = accuracy_score(y_test, y_pred)\n",
    "precision = precision_score(y_test, y_pred)\n",
    "recall = recall_score(y_test, y_pred)\n",
    "f1 = f1_score(y_test, y_pred)\n",
    "roc_auc = roc_auc_score(y_test, y_pred_proba)\n",
    "conf_matrix = confusion_matrix(y_test, y_pred)\n",
    "\n",
    "print(f\"Accuracy: {accuracy:.4f}\")\n",
    "print(f\"Precision: {precision:.4f}\")\n",
    "print(f\"Recall: {recall:.4f}\")\n",
    "print(f\"F1-Score: {f1:.4f}\")\n",
    "print(f\"ROC-AUC: {roc_auc:.4f}\")\n",
    "print(\"Confusion Matrix:\")\n",
    "print(conf_matrix)\n"
   ]
  },
  {
   "cell_type": "code",
   "execution_count": 34,
   "id": "c6ed1f1c",
   "metadata": {},
   "outputs": [
    {
     "data": {
      "image/png": "[encoded data removed]",
      "text/plain": [
       "<Figure size 432x288 with 2 Axes>"
      ]
     },
     "metadata": {
      "needs_background": "light"
     },
     "output_type": "display_data"
    }
   ],
   "source": [
    "from sklearn.metrics import confusion_matrix, ConfusionMatrixDisplay\n",
    "import matplotlib.pyplot as plt\n",
    "import numpy as np\n",
    "\n",
    "# Calculate the confusion matrix\n",
    "conf_matrix = confusion_matrix(y_test, y_pred)\n",
    "\n",
    "# Normalize the confusion matrix by the number of true instances in each class\n",
    "conf_matrix_normalized = conf_matrix.astype('float') / conf_matrix.sum(axis=1)[:, np.newaxis]\n",
    "\n",
    "# Display the normalized confusion matrix\n",
    "disp = ConfusionMatrixDisplay(confusion_matrix=conf_matrix_normalized, display_labels=logistic_model.classes_)\n",
    "disp.plot(cmap=plt.cm.Blues)\n",
    "plt.title(\"Normalized Confusion Matrix\")\n",
    "plt.show()\n"
   ]
  },
  {
   "cell_type": "code",
   "execution_count": 35,
   "id": "f7716aa9",
   "metadata": {},
   "outputs": [
    {
     "data": {
      "image/png": "[encoded data removed]",
      "text/plain": [
       "<Figure size 432x288 with 1 Axes>"
      ]
     },
     "metadata": {
      "needs_background": "light"
     },
     "output_type": "display_data"
    }
   ],
   "source": [
    "from sklearn.metrics import roc_curve, roc_auc_score\n",
    "import matplotlib.pyplot as plt\n",
    "\n",
    "# Calculate the false positive rate, true positive rate, and thresholds\n",
    "fpr, tpr, thresholds = roc_curve(y_test, y_pred_proba)\n",
    "\n",
    "# Calculate the AUC (Area Under the Curve)\n",
    "roc_auc = roc_auc_score(y_test, y_pred_proba)\n",
    "\n",
    "# Plot the ROC curve\n",
    "plt.figure()\n",
    "plt.plot(fpr, tpr, color='blue', lw=2, label=f'ROC curve (area = {roc_auc:.4f})')\n",
    "plt.plot([0, 1], [0, 1], color='gray', lw=2, linestyle='--')  # Diagonal line (chance level)\n",
    "plt.xlim([0.0, 1.0])\n",
    "plt.ylim([0.0, 1.05])\n",
    "plt.xlabel('False Positive Rate')\n",
    "plt.ylabel('True Positive Rate')\n",
    "plt.title('Receiver Operating Characteristic (ROC) Curve')\n",
    "plt.legend(loc='lower right')\n",
    "plt.show()\n"
   ]
  },
  {
   "cell_type": "code",
   "execution_count": 40,
   "id": "e37dedf3",
   "metadata": {},
   "outputs": [
    {
     "name": "stdout",
     "output_type": "stream",
     "text": [
      "GBM Accuracy: 0.7456\n",
      "GBM Precision: 0.1277\n",
      "GBM Recall: 0.7200\n",
      "GBM F1-Score: 0.2169\n",
      "GBM ROC-AUC: 0.7898\n"
     ]
    },
    {
     "data": {
      "image/png": "[encoded data removed]",
      "text/plain": [
       "<Figure size 432x288 with 2 Axes>"
      ]
     },
     "metadata": {
      "needs_background": "light"
     },
     "output_type": "display_data"
    },
    {
     "data": {
      "image/png": "[encoded data removed]",
      "text/plain": [
       "<Figure size 432x288 with 1 Axes>"
      ]
     },
     "metadata": {
      "needs_background": "light"
     },
     "output_type": "display_data"
    }
   ],
   "source": [
    "from sklearn.ensemble import GradientBoostingClassifier\n",
    "import numpy as np\n",
    "from sklearn.metrics import accuracy_score, precision_score, recall_score, f1_score, roc_auc_score, confusion_matrix, ConfusionMatrixDisplay, roc_curve\n",
    "import matplotlib.pyplot as plt\n",
    "\n",
    "# Step 1: Initialize the Gradient Boosting model\n",
    "gbm_model = GradientBoostingClassifier(n_estimators=100, learning_rate=0.1, max_depth=3, random_state=42)\n",
    "\n",
    "# Calculate class weights manually\n",
    "class_weights = {0: 1, 1: 10}  \n",
    "\n",
    "# Create sample weights\n",
    "sample_weight = np.array([class_weights[y] for y in y_train_smote])\n",
    "\n",
    "# Step 2: Train the model with sample weights\n",
    "gbm_model.fit(X_train_scaled, y_train_smote, sample_weight=sample_weight)\n",
    "\n",
    "# Step 3: Make predictions on the test set\n",
    "y_pred_gbm = gbm_model.predict(X_test_scaled)\n",
    "y_pred_gbm_proba = gbm_model.predict_proba(X_test_scaled)[:, 1]\n",
    "\n",
    "# Step 4: Evaluate the model\n",
    "accuracy_gbm = accuracy_score(y_test, y_pred_gbm)\n",
    "precision_gbm = precision_score(y_test, y_pred_gbm)\n",
    "recall_gbm = recall_score(y_test, y_pred_gbm)\n",
    "f1_gbm = f1_score(y_test, y_pred_gbm)\n",
    "roc_auc_gbm = roc_auc_score(y_test, y_pred_gbm_proba)\n",
    "\n",
    "print(f\"GBM Accuracy: {accuracy_gbm:.4f}\")\n",
    "print(f\"GBM Precision: {precision_gbm:.4f}\")\n",
    "print(f\"GBM Recall: {recall_gbm:.4f}\")\n",
    "print(f\"GBM F1-Score: {f1_gbm:.4f}\")\n",
    "print(f\"GBM ROC-AUC: {roc_auc_gbm:.4f}\")\n",
    "\n",
    "# Confusion Matrix\n",
    "conf_matrix_gbm = confusion_matrix(y_test, y_pred_gbm)\n",
    "\n",
    "# Normalize the confusion matrix\n",
    "conf_matrix_gbm_normalized = conf_matrix_gbm.astype('float') / conf_matrix_gbm.sum(axis=1)[:, np.newaxis]\n",
    "\n",
    "# Plot the normalized confusion matrix\n",
    "disp = ConfusionMatrixDisplay(confusion_matrix=conf_matrix_gbm_normalized, display_labels=gbm_model.classes_)\n",
    "disp.plot(cmap=plt.cm.Blues)\n",
    "plt.title(\"Normalized Confusion Matrix - GBM\")\n",
    "plt.show()\n",
    "\n",
    "# Plot ROC Curve\n",
    "fpr_gbm, tpr_gbm, _ = roc_curve(y_test, y_pred_gbm_proba)\n",
    "plt.figure()\n",
    "plt.plot(fpr_gbm, tpr_gbm, color='blue', lw=2, label=f'ROC curve (area = {roc_auc_gbm:.4f})')\n",
    "plt.plot([0, 1], [0, 1], color='gray', lw=2, linestyle='--')\n",
    "plt.xlim([0.0, 1.0])\n",
    "plt.ylim([0.0, 1.05])\n",
    "plt.xlabel('False Positive Rate')\n",
    "plt.ylabel('True Positive Rate')\n",
    "plt.title('ROC Curve - GBM')\n",
    "plt.legend(loc='lower right')\n",
    "plt.show()\n"
   ]
  },
  {
   "cell_type": "code",
   "execution_count": 55,
   "id": "55fec00a",
   "metadata": {},
   "outputs": [
    {
     "name": "stdout",
     "output_type": "stream",
     "text": [
      "SVM Accuracy: 0.7495\n",
      "SVM Precision: 0.1321\n",
      "SVM Recall: 0.7400\n",
      "SVM F1-Score: 0.2242\n",
      "SVM ROC-AUC: 0.8107\n"
     ]
    },
    {
     "data": {
      "image/png": "[encoded data removed]",
      "text/plain": [
       "<Figure size 432x288 with 2 Axes>"
      ]
     },
     "metadata": {
      "needs_background": "light"
     },
     "output_type": "display_data"
    },
    {
     "data": {
      "image/png": "[encoded data removed]",
      "text/plain": [
       "<Figure size 432x288 with 1 Axes>"
      ]
     },
     "metadata": {
      "needs_background": "light"
     },
     "output_type": "display_data"
    }
   ],
   "source": [
    "from sklearn.svm import SVC\n",
    "from sklearn.metrics import accuracy_score, precision_score, recall_score, f1_score, roc_auc_score, confusion_matrix, ConfusionMatrixDisplay, roc_curve\n",
    "import matplotlib.pyplot as plt\n",
    "\n",
    "# Step 1: Initialize the SVM model with a linear kernel and probability=True to enable probability estimates\n",
    "svm_model = SVC(kernel='linear', probability=True, random_state=42, class_weight='balanced')\n",
    "\n",
    "# Step 2: Train the model\n",
    "svm_model.fit(X_train_scaled, y_train_smote)\n",
    "\n",
    "# Step 3: Make predictions on the test set\n",
    "y_pred_svm = svm_model.predict(X_test_scaled)\n",
    "y_pred_svm_proba = svm_model.predict_proba(X_test_scaled)[:, 1]\n",
    "\n",
    "# Step 4: Evaluate the model\n",
    "accuracy_svm = accuracy_score(y_test, y_pred_svm)\n",
    "precision_svm = precision_score(y_test, y_pred_svm)\n",
    "recall_svm = recall_score(y_test, y_pred_svm)\n",
    "f1_svm = f1_score(y_test, y_pred_svm)\n",
    "roc_auc_svm = roc_auc_score(y_test, y_pred_svm_proba)\n",
    "\n",
    "print(f\"SVM Accuracy: {accuracy_svm:.4f}\")\n",
    "print(f\"SVM Precision: {precision_svm:.4f}\")\n",
    "print(f\"SVM Recall: {recall_svm:.4f}\")\n",
    "print(f\"SVM F1-Score: {f1_svm:.4f}\")\n",
    "print(f\"SVM ROC-AUC: {roc_auc_svm:.4f}\")\n",
    "\n",
    "# Confusion Matrix\n",
    "conf_matrix_svm = confusion_matrix(y_test, y_pred_svm)\n",
    "\n",
    "# Normalize the confusion matrix\n",
    "conf_matrix_svm_normalized = conf_matrix_svm.astype('float') / conf_matrix_svm.sum(axis=1)[:, np.newaxis]\n",
    "\n",
    "# Plot the normalized confusion matrix\n",
    "disp = ConfusionMatrixDisplay(confusion_matrix=conf_matrix_svm_normalized, display_labels=svm_model.classes_)\n",
    "disp.plot(cmap=plt.cm.Blues)\n",
    "plt.title(\"Normalized Confusion Matrix - SVM\")\n",
    "plt.show()\n",
    "\n",
    "# Plot ROC Curve\n",
    "fpr_svm, tpr_svm, _ = roc_curve(y_test, y_pred_svm_proba)\n",
    "plt.figure()\n",
    "plt.plot(fpr_svm, tpr_svm, color='blue', lw=2, label=f'ROC curve (area = {roc_auc_svm:.4f})')\n",
    "plt.plot([0, 1], [0, 1], color='gray', lw=2, linestyle='--')\n",
    "plt.xlim([0.0, 1.0])\n",
    "plt.ylim([0.0, 1.05])\n",
    "plt.xlabel('False Positive Rate')\n",
    "plt.ylabel('True Positive Rate')\n",
    "plt.title('ROC Curve - SVM')\n",
    "plt.legend(loc='lower right')\n",
    "plt.show()\n"
   ]
  }
 ],
 "metadata": {
  "kernelspec": {
   "display_name": "Python 3 (ipykernel)",
   "language": "python",
   "name": "python3"
  },
  "language_info": {
   "codemirror_mode": {
    "name": "ipython",
    "version": 3
   },
   "file_extension": ".py",
   "mimetype": "text/x-python",
   "name": "python",
   "nbconvert_exporter": "python",
   "pygments_lexer": "ipython3",
   "version": "3.9.12"
  }
 },
 "nbformat": 4,
 "nbformat_minor": 5
}
